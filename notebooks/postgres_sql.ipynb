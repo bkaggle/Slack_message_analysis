{
 "cells": [
  {
   "cell_type": "code",
   "execution_count": 14,
   "metadata": {},
   "outputs": [],
   "source": [
    "import os, sys\n",
    "import re\n",
    "import json\n",
    "import glob\n",
    "import psycopg2\n",
    "from psycopg2 import sql\n",
    "from psycopg2.extensions import ISOLATION_LEVEL_AUTOCOMMIT\n",
    "from sqlalchemy import create_engine"
   ]
  },
  {
   "cell_type": "code",
   "execution_count": 15,
   "metadata": {},
   "outputs": [],
   "source": [
    "rpath = os.path.abspath('..')\n",
    "if rpath not in sys.path:\n",
    "    sys.path.insert(0, rpath)\n",
    "\n",
    "from src.loader import SlackDataLoader\n",
    "import src.utils as utils"
   ]
  },
  {
   "cell_type": "code",
   "execution_count": 17,
   "metadata": {},
   "outputs": [],
   "source": [
    "db_params = {\n",
    "    'host': '127.0.0.1',\n",
    "    'user': 'postgres',\n",
    "    'password': 'postgres',\n",
    "    'port': '5432'\n",
    "}\n",
    "connection = psycopg2.connect(**db_params)\n",
    "connection.set_isolation_level(ISOLATION_LEVEL_AUTOCOMMIT)\n",
    "cursor = connection.cursor()\n",
    "db_name = '10_ac_week_0'\n",
    "quoted_db_name = sql.Identifier(db_name)\n",
    "create_db_query = sql.SQL(\"CREATE DATABASE {}\").format(quoted_db_name)\n",
    "cursor.execute(create_db_query)"
   ]
  },
  {
   "cell_type": "code",
   "execution_count": 5,
   "metadata": {},
   "outputs": [],
   "source": [
    "schema_file_path = 'schema.sql'"
   ]
  },
  {
   "cell_type": "code",
   "execution_count": 7,
   "metadata": {},
   "outputs": [],
   "source": [
    "with open(schema_file_path, 'r') as schema_file:\n",
    "    schema_sql = schema_file.read()"
   ]
  },
  {
   "cell_type": "code",
   "execution_count": 18,
   "metadata": {},
   "outputs": [],
   "source": [
    "# Construct the connection string\n",
    "connection_string = f\"postgresql+psycopg2://{db_params['user']}:{db_params['password']}@{db_params['host']}:{db_params['port']}/{db_name}\"\n",
    "\n",
    "# Create the SQLAlchemy engine\n",
    "engine = create_engine(connection_string)"
   ]
  },
  {
   "cell_type": "code",
   "execution_count": 20,
   "metadata": {},
   "outputs": [
    {
     "name": "stdout",
     "output_type": "stream",
     "text": [
      "\n",
      "Data saved to table 'messages' in the database.\n"
     ]
    }
   ],
   "source": [
    "# Please include the path to datafiles here for this code to work\n",
    "read_file = SlackDataLoader(\"../data\")\n",
    "message_with_user = read_file.slack_parser(\"../data/all-week8/\")\n",
    "selected_columns = ['msg_type', 'sender_name', 'msg_dist_type', 'reply_count']\n",
    "df_selected = message_with_user[selected_columns]\n",
    "table_name = \"messages\"\n",
    "df_selected.to_sql(table_name, engine, index=False, if_exists='replace')\n",
    "print(f\"\\nData saved to table '{table_name}' in the database.\")"
   ]
  },
  {
   "cell_type": "code",
   "execution_count": null,
   "metadata": {},
   "outputs": [],
   "source": []
  }
 ],
 "metadata": {
  "kernelspec": {
   "display_name": "virtualenv",
   "language": "python",
   "name": "python3"
  },
  "language_info": {
   "codemirror_mode": {
    "name": "ipython",
    "version": 3
   },
   "file_extension": ".py",
   "mimetype": "text/x-python",
   "name": "python",
   "nbconvert_exporter": "python",
   "pygments_lexer": "ipython3",
   "version": "3.11.4"
  }
 },
 "nbformat": 4,
 "nbformat_minor": 2
}
